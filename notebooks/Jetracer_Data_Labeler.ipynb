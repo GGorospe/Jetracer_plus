{
 "cells": [
  {
   "cell_type": "markdown",
   "metadata": {},
   "source": [
    "# Jetracer Data Labeling Tool\n",
    "Author: George Gorospe, george.e.gorospe@gmail.com\n",
    "MIT License\n",
    "Copyright (c) 2021-2023 George Gorospe\n",
    "\n",
    "About: This tool is used to add a label to unlabeled data collected on the jetracer platform. This is done by renaming the data file, an image, with the x, y, coordinates of the desired path/track/trajectory. \n",
    "\n",
    "Required: ipywidgets library & clickable widgets library.\n",
    "The libraries are used to present the data and collect the new label for the data."
   ]
  },
  {
   "cell_type": "code",
   "execution_count": 9,
   "metadata": {},
   "outputs": [],
   "source": [
    "# IPython Libraries for display and widgets\n",
    "import traitlets\n",
    "import ipywidgets.widgets as widgets\n",
    "from IPython.display import display\n",
    "from jupyter_clickable_image_widget import ClickableImageWidget\n",
    "\n",
    "# We'll use the bgr8_to_jpeg transform to help us in displaying the images\n",
    "from jetcam.utils import bgr8_to_jpeg\n",
    "\n",
    "\n",
    "# Python basic pakcages for image annotation\n",
    "from uuid import uuid1\n",
    "import os\n",
    "import json\n",
    "import glob\n",
    "import datetime\n",
    "import numpy as np\n",
    "import cv2\n",
    "import time\n",
    "\n",
    "# Useful Variables \n",
    "index = 0\n",
    "img = ''\n",
    "img_path = ''\n",
    "last_labeled_image_path = ''"
   ]
  },
  {
   "cell_type": "markdown",
   "metadata": {},
   "source": [
    "## Selecting the Unlabeled Data\n",
    "Next we'll select the unlabled data. This data will not be modified, instead we'll create a new folder and placed the labeled data in the new folder.\n",
    "\n",
    "The new folder will have same name and location as your selected data set but \"LABELED\" will be appended to the end of the folder name. "
   ]
  },
  {
   "cell_type": "code",
   "execution_count": 10,
   "metadata": {},
   "outputs": [
    {
     "name": "stdout",
     "output_type": "stream",
     "text": [
      "Directories not created becasue they already exist\n"
     ]
    }
   ],
   "source": [
    "# Loading data to be labeled\n",
    "\n",
    "# ************ Select the Directory with your Dataset ***********\n",
    "DATASET_DIR = \"./data/office_data\"\n",
    "\n",
    "# You can use these print statement to ensure that you've successfully located your data\n",
    "#print(os.getcwd()) # This will show you your current working directory\n",
    "#print(os.listdir(DATASET_DIR)) # You should see a list of the files in your directory.\n",
    "\n",
    "# Creating a new directory for labeled data based on the previous directory\n",
    "# we have this \"try/except\" statement because these next functions can throw an error if the directories exist already\n",
    "try:\n",
    "    LABELED_DATASET_DIR = DATASET_DIR +'_LABELED' \n",
    "    os.makedirs(LABELED_DATASET_DIR)\n",
    "    print('Created new folder: ' + LABELED_DATASET_DIR)\n",
    "except FileExistsError:\n",
    "    print('Directories not created becasue they already exist')\n",
    "    index = len(glob.glob(os.path.join(DATASET_DIR+'_LABELED','*.jpg')))\n",
    "\n",
    "\n",
    "\n",
    "# Information about the dataset, number of data points and a listing of the data points.\n",
    "file_number =  len(glob.glob(os.path.join(DATASET_DIR, '*.jpg')))\n",
    "file_list = os.listdir(DATASET_DIR)\n",
    "\n",
    "\n",
    "\n",
    "# Creating blank image that can be used when there is no image to display\n",
    "blank = np.ones((224,224,3))\n",
    "blank = bgr8_to_jpeg(blank)"
   ]
  },
  {
   "cell_type": "markdown",
   "metadata": {},
   "source": [
    "Next we'll do some setup for the user interface that will help us label the data.\n",
    "\n",
    "Again, we'll use widgets to both show examples how to label data and actual data to be labeled.\n",
    "\n",
    "Also, we'll reference some labeled data as examples of how to properly label data."
   ]
  },
  {
   "cell_type": "code",
   "execution_count": 11,
   "metadata": {},
   "outputs": [],
   "source": [
    "# Widget Setup\n",
    "\n",
    "# Creating a clickable image widget, labeling_widget, we can use it to label the data\n",
    "# Also creating a labeled_data_widget to visualize the label we've just applied to the data\n",
    "labeling_widget = ClickableImageWidget(width=224,height=224)\n",
    "labeled_data_widget = widgets.Image(width=224,height=224)\n",
    "\n",
    "# A callback for the count textbox widget\n",
    "#TODO adjust label width\n",
    "label_layout = widgets.Layout(width='224px', height='30px')\n",
    "count_widget = widgets.IntText(\n",
    "    description='Dataset: ', \n",
    "    value=len(glob.glob(os.path.join(DATASET_DIR, '*.jpg'))), \n",
    "    layout=label_layout,)\n",
    "labeled_count_widget = widgets.IntText(\n",
    "    description='Labeled Set: ',\n",
    "    value=len(glob.glob(os.path.join(LABELED_DATASET_DIR, '*.jpg'))), \n",
    "    layout=label_layout,)\n",
    "\n",
    "# Delete data point widget\n",
    "button_layout = widgets.Layout(width='224px', height='60px') # Width was 148px\n",
    "\n",
    "delete_button = widgets.Button(\n",
    "    description = 'Delete Bad Data Point',\n",
    "    disabled = False,\n",
    "    button_style = 'danger',\n",
    "    layout=button_layout,\n",
    "    )\n",
    "\n",
    "mislabeled_data = widgets.Button(\n",
    "    description = 'Delete Mislabeled Data',\n",
    "    disabled = False,\n",
    "    button_style = 'danger',\n",
    "    layout=button_layout,\n",
    "\n",
    ")\n",
    "\n",
    "# Creating an array of images to serve as examples for labeling data.\n",
    "img1 = widgets.Image(width=224,height=224); img1.value = open(\"./labeled_data_examples/ex_1.png\",'rb').read()\n",
    "img2 = widgets.Image(width=224,height=224); img2.value = open(\"./labeled_data_examples/ex_2.png\",'rb').read()\n",
    "img3 = widgets.Image(width=224,height=224); img3.value = open(\"./labeled_data_examples/ex_3.png\",'rb').read()\n",
    "img4 = widgets.Image(width=224,height=224); img4.value = open(\"./labeled_data_examples/ex_4.png\",'rb').read()\n",
    "img5 = widgets.Image(width=224,height=224); img5.value = open(\"./labeled_data_examples/ex_5.png\",'rb').read()\n",
    "\n",
    "example_text = widgets.HTML(value=\"The following images are examples of properly labeled data. Consider where you would like the car to go next. If there is a corner, aim for a sub-point in the corner rather than the end of the corner.\")\n",
    "examples = widgets.HBox([img1, img2, img3, img4, img5])\n",
    "instruction_text = widgets.HTML(value=\"Click within the image to add a label.\")\n",
    "\n",
    "## The initial value of the labeling widget and the saved_snapshot_widget\n",
    "\n",
    "# Load the first image and dispay it with the snapshot widget\n",
    "index = len(glob.glob(os.path.join(LABELED_DATASET_DIR, '*.jpg'))) + 1 # Index for file from file_list\n",
    "img_path = os.path.join(DATASET_DIR,file_list[index])\n",
    "img = open(img_path,'rb').read()\n",
    "labeling_widget.value = img\n",
    "\n",
    "# At the start, there is no data to display on the labeled_data widget, so it is blank\n",
    "labeled_data_widget.value = blank\n"
   ]
  },
  {
   "cell_type": "markdown",
   "metadata": {},
   "source": [
    "## Call-back function handles\n",
    "Next we'll setup the call-back function handles. These are functions that are called when events occur on the user interface.\n",
    "\n",
    "There are two callback functions, label_data and delete_data_point. These powerful functions can create new files and delete files from the file system using the 'os' library. \n",
    "\n",
    "Each callback function must also be connected to their respective clickable_widget or button."
   ]
  },
  {
   "cell_type": "code",
   "execution_count": 12,
   "metadata": {},
   "outputs": [],
   "source": [
    "# Setup of the label_data function\n",
    "# About: the label_data function is called when you click on the labeling_widget. \n",
    "#The x and y coordinates of the location you clicked, are passed to the label_data function.\n",
    "\n",
    "# Function handel, this function is called each time we click on the labeling widget\n",
    "def label_data(_, content, msg):\n",
    "    global index, img, img_path, last_labeled_image_path, labeling_widget, labeled_data_widget\n",
    "    if content['event'] == 'click':\n",
    "        # Take x & y coordinates from the click event\n",
    "        data = content['eventData']\n",
    "        x = data['offsetX']\n",
    "        y = data['offsetY']\n",
    "        \n",
    "        # Create a new filename with the coordinates appended, then save the file in the new directory.\n",
    "        uuid = 'xy_%03d_%03d_%s' % (x, y, uuid1()) #uuid(1) creates a unique string each time it's called\n",
    "        image_path = os.path.join(LABELED_DATASET_DIR, uuid + '.jpg') # Building the path & filename for the new labeled data point\n",
    "        last_labeled_image_path = image_path # store new name for labeled data, we may need to use to delete badly labeled data\n",
    "        #labeled_data_widget.value\n",
    "        with open(image_path, 'wb') as f:\n",
    "            f.write(img)\n",
    "            \n",
    "        # display data with our new label (shown as a green circle), image is read with CV2, resulting in a numpy array that can be edited.\n",
    "        labeled_data = cv2.imread(image_path)\n",
    "        labeled_data = cv2.circle(labeled_data, (x, y), 8, (0, 255, 0), 3)\n",
    "        labeled_data = bgr8_to_jpeg(labeled_data)\n",
    "        labeled_data_widget.value = labeled_data\n",
    "        \n",
    "        # Display the next image for labeling\n",
    "        # Increment the index and update labeling widget image\n",
    "        index = index + 1\n",
    "        img_path = os.path.join(DATASET_DIR,file_list[index])\n",
    "        img = open(img_path,'rb').read()\n",
    "        labeling_widget.value = img\n",
    "        \n",
    "        \n",
    "        # Update user interfacex\n",
    "        labeled_count_widget.value = len(glob.glob(os.path.join(LABELED_DATASET_DIR, '*.jpg')))\n",
    "        display(data_labeling_interface)"
   ]
  },
  {
   "cell_type": "code",
   "execution_count": 13,
   "metadata": {},
   "outputs": [],
   "source": [
    "# Setup of the delete_data_point function\n",
    "# About: this function is called when the delete_datapoint button is pressed\n",
    "#        the function deletes from the original dataset the selected data poinnt\n",
    "\n",
    "def delete_data_point():\n",
    "    global img, index, file_list, file_number, labeling_widget, labeled_data_widget\n",
    "    current_image_path = os.path.join(DATASET_DIR,file_list[index-1])\n",
    "    \n",
    "    # Delete the current image\n",
    "    os.remove(current_image_path)\n",
    "    \n",
    "    # Update file_list and file_number\n",
    "    file_number =  len(glob.glob(os.path.join(DATASET_DIR, '*.jpg')))\n",
    "    file_list = os.listdir(DATASET_DIR)\n",
    "    \n",
    "    # Update the user interface with a new image and update counters\n",
    "    img_path = os.path.join(DATASET_DIR,file_list[index])\n",
    "    img = open(img_path,'rb').read()\n",
    "    labeling_widget.value = img\n",
    "    \n",
    "    count_widget.value = len(glob.glob(os.path.join(DATASET_DIR, '*.jpg')))\n",
    "    display(data_labeling_interface)\n",
    "    \n",
    "def delete_mislabeled_data_point():\n",
    "    #global last_labeled_image_path\n",
    "    os.remove(last_labeled_image_path)\n",
    "\n",
    "    # Update User Interface\n",
    "    labeled_data_widget.value = blank\n",
    "\n",
    "    labeled_count_widget.value = len(glob.glob(os.path.join(LABELED_DATASET_DIR, '*.jpg')))\n",
    "    display(data_labeling_interface)\n"
   ]
  },
  {
   "cell_type": "markdown",
   "metadata": {},
   "source": [
    "## User Interface setup\n",
    "Jupyter labs notebooks are capable of creating very useful interfaces with displays and buttons.\n",
    "\n",
    "Below we'll create a somewhat complex interface, using VBoxes and HBoxes. Additionally, we'll also show examples of properly labed data."
   ]
  },
  {
   "cell_type": "code",
   "execution_count": 14,
   "metadata": {},
   "outputs": [
    {
     "data": {
      "application/vnd.jupyter.widget-view+json": {
       "model_id": "04c63bcde32a436484971b8d5699849a",
       "version_major": 2,
       "version_minor": 0
      },
      "text/plain": [
       "HTML(value='Click within the image to add a label.')"
      ]
     },
     "metadata": {},
     "output_type": "display_data"
    },
    {
     "data": {
      "application/vnd.jupyter.widget-view+json": {
       "model_id": "8fe01a0c78db491aa57d58ef63381967",
       "version_major": 2,
       "version_minor": 0
      },
      "text/plain": [
       "VBox(children=(HBox(children=(ClickableImageWidget(value=b'\\xff\\xd8\\xff\\xe0\\x00\\x10JFIF\\x00\\x01\\x01\\x00\\x00\\x0…"
      ]
     },
     "metadata": {},
     "output_type": "display_data"
    }
   ],
   "source": [
    "# User interface Setup\n",
    "# connecting the labeling_widget and the save_snapshot function\n",
    "labeling_widget.on_msg(label_data)\n",
    "# Connecting the delete_button to the delete_data_point function\n",
    "delete_button.on_click(lambda x: delete_data_point())\n",
    "# Connecting the mislabeled_data button to the delete_mislabeled_data_point function\n",
    "mislabeled_data.on_click(lambda x: delete_mislabeled_data_point())\n",
    "\n",
    "# The user interface configuration seen below is built from VBoxes (verticlly arranged items), and HBoxes (horizontally arranged items).\n",
    "image_display = widgets.HBox([labeling_widget, labeled_data_widget])\n",
    "button_display = widgets.HBox([delete_button, mislabeled_data])\n",
    "counters_display = widgets.HBox([count_widget, labeled_count_widget])\n",
    "data_labeling_interface = widgets.VBox([image_display, button_display, counters_display])\n",
    "\n",
    "# Now that we've created the widgets and attached callback functions to each of them\n",
    "# we can display the widgets and create the user interface for labeling our data\n",
    "#display(example_text)\n",
    "#display(examples)\n",
    "display(instruction_text)\n",
    "display(data_labeling_interface)"
   ]
  },
  {
   "cell_type": "code",
   "execution_count": null,
   "metadata": {},
   "outputs": [],
   "source": []
  }
 ],
 "metadata": {
  "interpreter": {
   "hash": "916dbcbb3f70747c44a77c7bcd40155683ae19c65e1c03b4aa3499c5328201f1"
  },
  "kernelspec": {
   "display_name": "Python 3",
   "language": "python",
   "name": "python3"
  },
  "language_info": {
   "codemirror_mode": {
    "name": "ipython",
    "version": 3
   },
   "file_extension": ".py",
   "mimetype": "text/x-python",
   "name": "python",
   "nbconvert_exporter": "python",
   "pygments_lexer": "ipython3",
   "version": "3.6.9"
  }
 },
 "nbformat": 4,
 "nbformat_minor": 4
}
