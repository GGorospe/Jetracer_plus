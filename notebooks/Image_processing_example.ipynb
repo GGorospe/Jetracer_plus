{
 "cells": [
  {
   "attachments": {},
   "cell_type": "markdown",
   "id": "aaa65d6e",
   "metadata": {},
   "source": [
    "## Image Processing Example Notebook\n",
    "About: we'll use this image processing notebook to look at ways to increase our model accuracy through modification of the data set images."
   ]
  },
  {
   "cell_type": "code",
   "execution_count": null,
   "id": "75ff94b1",
   "metadata": {},
   "outputs": [],
   "source": [
    "# IPython Libraries for display and widgets\n",
    "import traitlets\n",
    "import ipywidgets.widgets as widgets\n",
    "from IPython.display import display\n",
    "from jupyter_clickable_image_widget import ClickableImageWidget\n",
    "# We'll use the bgr8_to_jpeg transform to help us in displaying the images\n",
    "from jetcam.utils import bgr8_to_jpeg\n",
    "\n",
    "\n",
    "# Python basic pakcages for image annotation\n",
    "from uuid import uuid1\n",
    "import os\n",
    "import json\n",
    "import glob\n",
    "import datetime\n",
    "import numpy as np\n",
    "import cv2\n",
    "import time"
   ]
  },
  {
   "cell_type": "code",
   "execution_count": null,
   "id": "1b446a67",
   "metadata": {},
   "outputs": [],
   "source": [
    "# Loading the sample image\n",
    "file_name = '100_112_sample.jpg'\n",
    "img = cv2.imread(file_name)"
   ]
  },
  {
   "cell_type": "code",
   "execution_count": null,
   "id": "322eac5c",
   "metadata": {},
   "outputs": [],
   "source": [
    "data_display = ClickableImageWidget(width=224,height=224); \n",
    "data_display.value = bgr8_to_jpeg(img)\n",
    "display(data_display)"
   ]
  },
  {
   "cell_type": "code",
   "execution_count": null,
   "id": "abac50a6",
   "metadata": {},
   "outputs": [],
   "source": [
    "# Seperate Red, Green, and Blue frames of the data\n",
    "red = img[0:224,0:224,1]"
   ]
  },
  {
   "cell_type": "code",
   "execution_count": null,
   "id": "a7ef6aff",
   "metadata": {},
   "outputs": [],
   "source": [
    "red_display = imageWidget(width=224,height=224); \n",
    "red_display.value = bgr8_to_jpeg(red)\n",
    "display(red_display)"
   ]
  },
  {
   "cell_type": "code",
   "execution_count": null,
   "id": "7c0ed707",
   "metadata": {},
   "outputs": [],
   "source": []
  }
 ],
 "metadata": {
  "kernelspec": {
   "display_name": "Python 3 (ipykernel)",
   "language": "python",
   "name": "python3"
  },
  "language_info": {
   "codemirror_mode": {
    "name": "ipython",
    "version": 3
   },
   "file_extension": ".py",
   "mimetype": "text/x-python",
   "name": "python",
   "nbconvert_exporter": "python",
   "pygments_lexer": "ipython3",
   "version": "3.8.10"
  }
 },
 "nbformat": 4,
 "nbformat_minor": 5
}
