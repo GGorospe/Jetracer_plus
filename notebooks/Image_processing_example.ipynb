{
 "cells": [
  {
   "attachments": {},
   "cell_type": "markdown",
   "id": "aaa65d6e",
   "metadata": {},
   "source": [
    "## Image Processing Example Notebook\n",
    "About: we'll use this image processing notebook to look at ways to increase our model accuracy through modification of the data set images."
   ]
  },
  {
   "cell_type": "code",
   "execution_count": 2,
   "id": "75ff94b1",
   "metadata": {},
   "outputs": [],
   "source": [
    "# IPython Libraries for display and widgets\n",
    "import traitlets\n",
    "import ipywidgets.widgets as widgets\n",
    "from IPython.display import display\n",
    "from jupyter_clickable_image_widget import ClickableImageWidget\n",
    "# We'll use the bgr8_to_jpeg transform to help us in displaying the images\n",
    "from jetcam.utils import bgr8_to_jpeg\n",
    "\n",
    "\n",
    "# Python basic pakcages for image annotation\n",
    "from uuid import uuid1\n",
    "import os\n",
    "import json\n",
    "import glob\n",
    "import datetime\n",
    "import numpy as np\n",
    "import cv2\n",
    "import time"
   ]
  },
  {
   "cell_type": "code",
   "execution_count": 3,
   "id": "1b446a67",
   "metadata": {},
   "outputs": [],
   "source": [
    "# Loading the sample image\n",
    "file_name = '100_112_sample.jpg'\n",
    "img = cv2.imread(file_name)"
   ]
  },
  {
   "cell_type": "code",
   "execution_count": 4,
   "id": "322eac5c",
   "metadata": {},
   "outputs": [
    {
     "data": {
      "application/vnd.jupyter.widget-view+json": {
       "model_id": "3e54fdabfee34e8e857cb63059ed0a80",
       "version_major": 2,
       "version_minor": 0
      },
      "text/plain": [
       "ClickableImageWidget(value=b'\\xff\\xd8\\xff\\xe0\\x00\\x10JFIF\\x00\\x01\\x01\\x00\\x00\\x01\\x00\\x01\\x00\\x00\\xff\\xdb\\x00C…"
      ]
     },
     "metadata": {},
     "output_type": "display_data"
    }
   ],
   "source": [
    "data_display = ClickableImageWidget(width=224,height=224); \n",
    "data_display.value = bgr8_to_jpeg(img)\n",
    "display(data_display)"
   ]
  },
  {
   "cell_type": "code",
   "execution_count": 15,
   "id": "abac50a6",
   "metadata": {},
   "outputs": [],
   "source": [
    "# Seperate Red, Green, and Blue frames of the data\n",
    "red = img[0:224,0:224,1]"
   ]
  },
  {
   "cell_type": "code",
   "execution_count": 17,
   "id": "a7ef6aff",
   "metadata": {},
   "outputs": [
    {
     "ename": "NameError",
     "evalue": "name 'imageWidget' is not defined",
     "output_type": "error",
     "traceback": [
      "\u001b[0;31m---------------------------------------------------------------------------\u001b[0m",
      "\u001b[0;31mNameError\u001b[0m                                 Traceback (most recent call last)",
      "\u001b[0;32m<ipython-input-17-8b9be1e373ee>\u001b[0m in \u001b[0;36m<module>\u001b[0;34m\u001b[0m\n\u001b[0;32m----> 1\u001b[0;31m \u001b[0mred_display\u001b[0m \u001b[0;34m=\u001b[0m \u001b[0mimageWidget\u001b[0m\u001b[0;34m(\u001b[0m\u001b[0mwidth\u001b[0m\u001b[0;34m=\u001b[0m\u001b[0;36m224\u001b[0m\u001b[0;34m,\u001b[0m\u001b[0mheight\u001b[0m\u001b[0;34m=\u001b[0m\u001b[0;36m224\u001b[0m\u001b[0;34m)\u001b[0m\u001b[0;34m;\u001b[0m\u001b[0;34m\u001b[0m\u001b[0;34m\u001b[0m\u001b[0m\n\u001b[0m\u001b[1;32m      2\u001b[0m \u001b[0mred_display\u001b[0m\u001b[0;34m.\u001b[0m\u001b[0mvalue\u001b[0m \u001b[0;34m=\u001b[0m \u001b[0mbgr8_to_jpeg\u001b[0m\u001b[0;34m(\u001b[0m\u001b[0mred\u001b[0m\u001b[0;34m)\u001b[0m\u001b[0;34m\u001b[0m\u001b[0;34m\u001b[0m\u001b[0m\n\u001b[1;32m      3\u001b[0m \u001b[0mdisplay\u001b[0m\u001b[0;34m(\u001b[0m\u001b[0mred_display\u001b[0m\u001b[0;34m)\u001b[0m\u001b[0;34m\u001b[0m\u001b[0;34m\u001b[0m\u001b[0m\n",
      "\u001b[0;31mNameError\u001b[0m: name 'imageWidget' is not defined"
     ]
    }
   ],
   "source": [
    "red_display = imageWidget(width=224,height=224); \n",
    "red_display.value = bgr8_to_jpeg(red)\n",
    "display(red_display)"
   ]
  },
  {
   "cell_type": "code",
   "execution_count": null,
   "id": "7c0ed707",
   "metadata": {},
   "outputs": [],
   "source": []
  }
 ],
 "metadata": {
  "kernelspec": {
   "display_name": "Python 3",
   "language": "python",
   "name": "python3"
  },
  "language_info": {
   "codemirror_mode": {
    "name": "ipython",
    "version": 3
   },
   "file_extension": ".py",
   "mimetype": "text/x-python",
   "name": "python",
   "nbconvert_exporter": "python",
   "pygments_lexer": "ipython3",
   "version": "3.6.13"
  }
 },
 "nbformat": 4,
 "nbformat_minor": 5
}
