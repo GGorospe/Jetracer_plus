{
 "cells": [
  {
   "cell_type": "markdown",
   "metadata": {},
   "source": [
    "# Jetracer Data Checking Tool\n",
    "Author: George Gorospe, george.e.gorospe@gmail.com\n",
    "\n",
    "About: This tool is used to check and verify the auto-labeled data collected with the jetracer. \n",
    "       Verification is an important step in data collection. Here we want to double check that the label for each data point is correct.\n",
    "       Incorrectly labeled data could reduce the accuracy of our trained models.\n",
    "       \n",
    "Required: ipywidgets library & clickable widgets library.\n",
    "The libraries are used to present the data and collect the new label for the data."
   ]
  },
  {
   "cell_type": "code",
<<<<<<< HEAD
   "execution_count": 23,
=======
   "execution_count": 1,
>>>>>>> 2bd855372c48cf024511ac8f427ffe9faa667cbb
   "metadata": {},
   "outputs": [],
   "source": [
    "# IPython Libraries for display and widgets\n",
    "import traitlets\n",
    "import ipywidgets.widgets as widgets\n",
    "from IPython.display import display\n",
    "from jupyter_clickable_image_widget import ClickableImageWidget\n",
    "\n",
    "# We'll use the bgr8_to_jpeg transform to help us in displaying the images\n",
    "from jetcam.utils import bgr8_to_jpeg\n",
    "\n",
    "\n",
    "# Python basic pakcages for image annotation\n",
    "from uuid import uuid1\n",
    "import os\n",
    "import json\n",
    "import glob\n",
    "import datetime\n",
    "import numpy as np\n",
    "import cv2\n",
    "import time\n",
    "from PIL import Image\n",
    "import fnmatch\n",
    "\n",
    "\n",
    "# Useful Variables \n",
    "index = 0\n",
    "img = ''\n",
    "img_path = ''\n",
    "last_labeled_image_path = ''\n",
    "\n",
    "\n",
    "# Creating blank image that can be used when there is no image to display\n",
    "blank = np.ones((224,224,3))\n",
    "blank = bgr8_to_jpeg(blank)"
   ]
  },
  {
   "cell_type": "markdown",
   "metadata": {},
   "source": [
    "## Selecting the labeled Data\n",
    "Next we'll select the folder containing the labled data. This data will not be modified, instead we'll create a new folder and place the verified data in the new folder.\n",
    "\n",
    "The new folder will have same name and location as your selected dataset but \"VERIFIED\" will be appended to the end of the folder name. "
   ]
  },
  {
   "cell_type": "code",
<<<<<<< HEAD
   "execution_count": 24,
=======
   "execution_count": 2,
>>>>>>> 2bd855372c48cf024511ac8f427ffe9faa667cbb
   "metadata": {},
   "outputs": [
    {
     "name": "stdout",
     "output_type": "stream",
     "text": [
<<<<<<< HEAD
      "['sample_data', 'rope_track', 'cintermex_03', 'NASA', 'sample_dataset', 'sample_datasetrope_track', 'office_data_labeled_set.zip', 'cintermex_01', 'testhotel', 'cintermex_01_VERIFIED', 'cintermex_02', 'Old_Datasets']\n"
=======
      "['A', 'A_VERIFIED']\n"
>>>>>>> 2bd855372c48cf024511ac8f427ffe9faa667cbb
     ]
    }
   ],
   "source": [
    "# Locate the folder containing your data sets (multiple)\n",
    "datasets_directory = \"/home/pathfinder/Datasets/\"\n",
    "dataset_list = os.listdir(datasets_directory)\n",
    "print(dataset_list)"
   ]
  },
  {
   "cell_type": "code",
<<<<<<< HEAD
   "execution_count": 25,
=======
   "execution_count": 3,
>>>>>>> 2bd855372c48cf024511ac8f427ffe9faa667cbb
   "metadata": {},
   "outputs": [
    {
     "name": "stdout",
     "output_type": "stream",
     "text": [
<<<<<<< HEAD
      "Number of files in datadset: 401\n"
=======
      "Number of files in datadset: 1001\n"
>>>>>>> 2bd855372c48cf024511ac8f427ffe9faa667cbb
     ]
    }
   ],
   "source": [
    "# Use the listing of data sets from above to select a data set to visualize and validate\n",
    "\n",
    "# ************ Select the Directory with your Dataset ***********\n",
    "selected_dataset = \"/cintermex_01\"\n",
    "\n",
    "dataset_directory = datasets_directory + selected_dataset\n",
    "\n",
    "# Information about the dataset, number of data points and a listing of the data points.\n",
    "file_number =  len(glob.glob(os.path.join(dataset_directory, '*.jpg')))\n",
    "file_list = fnmatch.filter(os.listdir(dataset_directory), '*.jpg')\n",
    "print(\"Number of files in datadset: \" + str(file_number))"
   ]
  },
  {
   "cell_type": "markdown",
   "metadata": {},
   "source": [
    "The printed statement \"Number of files i the dataset: ###\" shows that you've successfully located your data.\n",
    "If the number of files is zero. You'll need to look in a different directory.\n",
    "\n",
    "Next we'll create a new dataset folder. This folder will have \"VERIFIED\" added to the end of the name."
   ]
  },
  {
   "cell_type": "code",
<<<<<<< HEAD
   "execution_count": 26,
=======
   "execution_count": 4,
>>>>>>> 2bd855372c48cf024511ac8f427ffe9faa667cbb
   "metadata": {},
   "outputs": [
    {
     "name": "stdout",
     "output_type": "stream",
     "text": [
      "Directories not created becasue they already exist\n",
      "Starting at index: 0\n"
     ]
    }
   ],
   "source": [
    "# Creating a new directory for labeled data based on the previous directory\n",
    "# we have this \"try/except\" statement because these next functions can throw an error if the directories exist already\n",
    "verified_dataset_directory = dataset_directory +'_VERIFIED' \n",
    "try:\n",
    "    os.makedirs(verified_dataset_directory)\n",
    "    print('Created new folder: ' + verified_dataset_directory)\n",
    "except FileExistsError:\n",
    "    global index # Since we already have some files in the verified directory, we'll adjust the index\n",
    "    index = len(os.listdir(verified_dataset_directory))\n",
    "    print('Directories not created becasue they already exist')\n",
    "    print('Starting at index: ' + str(index))"
   ]
  },
  {
   "cell_type": "markdown",
   "metadata": {},
   "source": [
    "Next we'll do some setup for the user interface that will help us check the data.\n",
    "\n",
    "Again, we'll use widgets to both show examples how to label data and actual data to be labeled.\n",
    "\n",
    "Also, we'll reference some labeled data as examples of how to properly label data."
   ]
  },
  {
   "cell_type": "code",
<<<<<<< HEAD
   "execution_count": 27,
=======
   "execution_count": 5,
>>>>>>> 2bd855372c48cf024511ac8f427ffe9faa667cbb
   "metadata": {},
   "outputs": [],
   "source": [
    "# Widget Setup\n",
    "\n",
    "# Creating a clickable image widget, labeling_widget, we can use it to label the data\n",
    "# Also creating a labeled_data_widget to visualize the label we've just applied to the data\n",
<<<<<<< HEAD
    "#labeling_widget = widgets.Image(width=224,height=224)\n",
    "labeling_widget = ClickableImageWidget(width=224, height=224)\n",
=======
    "labeling_widget = ClickableImageWidget(width=224,height=224)\n",
    "\n",
>>>>>>> 2bd855372c48cf024511ac8f427ffe9faa667cbb
    "# This layout information defines the size of the label widgets\n",
    "label_layout = widgets.Layout(width='224px', height='30px')\n",
    "\n",
    "# This layout information defines the size of the buttons used in our user interfae (UI)\n",
    "button_layout = widgets.Layout(width='224px', height='60px') # Width was 148px\n",
    "\n",
    "# This layout information defines the size of the text widget\n",
    "text_layout = widgets.Layout(width='600px', height='30px')\n",
    "\n",
    "# Creating widgets\n",
    "# Count widget lists the number of files in the dataset\n",
    "count_widget = widgets.IntText(\n",
    "    description='Dataset: ', \n",
    "    value=len(glob.glob(os.path.join(dataset_directory, '*.jpg'))), \n",
    "    layout=label_layout,)\n",
    "\n",
    "# Labeled widget gives a count of the number of verified files in the new folder\n",
    "labeled_count_widget = widgets.IntText(\n",
    "    description='Labeled Set: ',\n",
    "    value=len(glob.glob(os.path.join(verified_dataset_directory, '*.jpg'))), \n",
    "    layout=label_layout,)\n",
    "\n",
    "# Buttons: verify button simply copies the file to the \"VERIFIED\" folder\n",
    "verify_button = widgets.Button(\n",
    "    description = 'VERIFY Data Point',\n",
    "    disabled = False,\n",
    "    layout=button_layout,\n",
    "    )\n",
    "\n",
    "# Clearly bad data is deleted with this button\n",
    "delete_button = widgets.Button(\n",
    "    description = 'Delete Bad Data Point',\n",
    "    disabled = False,\n",
    "    button_style = 'danger',\n",
    "    layout=button_layout,\n",
    "    )\n",
    "\n",
    "# Text widget for displaying the name of the file\n",
    "file_name_widget = widgets.Text(description='FileName:', layout=text_layout)\n",
    "\n",
    "## The initial value of the labeling widget and the saved_snapshot_widget\n",
    "\n",
    "# Load the first image and dispay it with the snapshot widget\n",
    "file_name = file_list[index] # This gives a single file name from the list of files in the folder based on the index\n",
    "file_name_widget.value = file_name\n",
    "img_path = os.path.join(dataset_directory,file_name)\n",
    "\n",
    "# Next we parse the file name to pull out the x and y label data from the file name, later we'll plot this\n",
    "parts = file_list[index].split(\"_\")\n",
    "x = int(parts[0])\n",
    "y = int(parts[1])\n",
    "img = cv2.imread(img_path)\n",
    "img = cv2.circle(img, (x,112), 8, (0, 255, 0), 3)\n",
    "img = bgr8_to_jpeg(img)\n"
   ]
  },
  {
   "cell_type": "markdown",
   "metadata": {},
   "source": [
    "## Call-back function handles\n",
    "Next we'll setup the call-back function handles. These are functions that are called when events occur on the user interface.\n",
    "\n",
    "There are two callback functions, label_data and delete_data_point. These powerful functions can create new files and delete files from the file system using the 'os' library. \n",
    "\n",
    "Each callback function must also be connected to their respective clickable_widget or button."
   ]
  },
  {
   "cell_type": "code",
<<<<<<< HEAD
   "execution_count": 28,
=======
   "execution_count": 6,
>>>>>>> 2bd855372c48cf024511ac8f427ffe9faa667cbb
   "metadata": {},
   "outputs": [],
   "source": [
    "# Setup of the label_data function\n",
    "# About: the label_data function is called when you click on the labeling_widget. \n",
    "#The x and y coordinates of the location you clicked, are passed to the label_data function.\n",
    "\n",
    "# Function handel, this function is called each time we click on the labeling widget\n",
    "def verify_data_point():\n",
    "    global index, img, img_path, last_labeled_image_path, labeling_widget, labeled_data_widget\n",
    "\n",
    "    # Keep the current file name, but save in a different directory.\n",
    "    file_name = file_list[index]\n",
    "    src_path = os.path.join(dataset_directory, file_name) \n",
    "    new_path = os.path.join(verified_dataset_directory, file_name)\n",
    "    # Create a comand, then use taht command with os.popen to execute the command.\n",
    "    # In this case we're using \"cp\" to simply copy a file to a new location\n",
    "    cmd_text = 'cp ' + src_path + ' ' + new_path\n",
    "    os.popen(cmd_text)\n",
    "\n",
    "    # Display the next image for labeling\n",
    "    # Increment the index and update labeling widget image\n",
    "    index = index + 1\n",
    "    next_file = os.path.join(dataset_directory,file_list[index])\n",
    "    parts = file_list[index].split(\"_\")\n",
    "    x = int(parts[0])\n",
    "    img = cv2.imread(next_file)\n",
    "    img = cv2.circle(img, (x,112), 8, (0, 255, 0), 3)\n",
    "    img = bgr8_to_jpeg(img)\n",
    "\n",
    "\n",
    "\n",
    "    # Update user interfacex\n",
    "    labeling_widget.value = img\n",
    "    file_name_widget.value = file_list[index]\n",
    "    labeled_count_widget.value = len(glob.glob(os.path.join(verified_dataset_directory, '*.jpg')))\n",
    "    display(data_labeling_interface)\n",
    "        \n",
    "def delete_data_point():\n",
    "    global img, index, file_list, file_number, labeling_widget, labeled_data_widget\n",
    "    current_image_path = os.path.join(dataset_directory,file_list[index])\n",
    "    \n",
    "    # Delete the current image\n",
    "    os.remove(current_image_path)\n",
    "    \n",
    "    # Update file_list and file_number\n",
    "    file_number =  len(glob.glob(os.path.join(dataset_directory, '*.jpg')))\n",
    "    file_list = file_list = fnmatch.filter(os.listdir(dataset_directory), '*.jpg')\n",
    "    \n",
    "    # Update the user interface with a new image and update counters\n",
    "    # Display the next image for labeling\n",
    "    # Increment the index and update labeling widget image\n",
    "    img_path = os.path.join(dataset_directory,file_list[index])\n",
    "    parts = file_list[index].split(\"_\")\n",
    "    x = int(parts[0])\n",
    "    img = cv2.imread(img_path)\n",
    "    img = cv2.circle(img, (x,112), 8, (0, 255, 0), 3)\n",
    "    img = bgr8_to_jpeg(img)\n",
    "    labeling_widget.value = img\n",
    "    file_name_widget.value = img_path\n",
    "    \n",
    "    count_widget.value = file_number\n",
    "    display(data_labeling_interface)"
   ]
  },
  {
   "cell_type": "markdown",
   "metadata": {},
   "source": [
    "## User Interface setup\n",
    "Jupyter labs notebooks are capable of creating very useful interfaces with displays and buttons.\n",
    "\n",
    "Below we'll create a somewhat complex interface, using VBoxes and HBoxes. Additionally, we'll also show examples of properly labed data."
   ]
  },
  {
   "cell_type": "code",
<<<<<<< HEAD
   "execution_count": 29,
=======
   "execution_count": 7,
>>>>>>> 2bd855372c48cf024511ac8f427ffe9faa667cbb
   "metadata": {},
   "outputs": [
    {
     "data": {
      "application/vnd.jupyter.widget-view+json": {
<<<<<<< HEAD
       "model_id": "ab5c9b12b8594f96afc9392905d9f2e1",
=======
       "model_id": "9a0417728f904f71b2fc9b75f4c9f4bf",
>>>>>>> 2bd855372c48cf024511ac8f427ffe9faa667cbb
       "version_major": 2,
       "version_minor": 0
      },
      "text/plain": [
       "VBox(children=(HBox(children=(ClickableImageWidget(value=b'\\xff\\xd8\\xff\\xe0\\x00\\x10JFIF\\x00\\x01\\x01\\x00\\x00\\x0…"
      ]
     },
     "metadata": {},
     "output_type": "display_data"
    }
   ],
   "source": [
    "# User interface Setup\n",
    "labeling_widget.value = img\n",
    "\n",
    "\n",
    "# Connecting the verify button to the delete_data_point function\n",
    "verify_button.on_click(lambda x: verify_data_point())\n",
    "# Connecting the delete_button to the delete_data_point function\n",
    "delete_button.on_click(lambda x: delete_data_point())\n",
    "\n",
    "\n",
    "# The user interface configuration seen below is built from VBoxes (verticlly arranged items), and HBoxes (horizontally arranged items).\n",
    "image_display = widgets.HBox([labeling_widget])\n",
    "button_display = widgets.HBox([verify_button,delete_button])\n",
    "counters_display = widgets.HBox([count_widget, labeled_count_widget])\n",
    "data_labeling_interface = widgets.VBox([image_display, file_name_widget, button_display, counters_display])\n",
    "examples = widgets.HBox([])\n",
    "# Now that we've created the widgets and attached callback functions to each of them\n",
    "# we can display the widgets and create the user interface for labeling our data\n",
    "\n",
    "display(data_labeling_interface)"
   ]
  },
  {
   "cell_type": "markdown",
   "metadata": {},
   "source": [
    "# Please review examples before starting verification task\n",
    "<img src=\"example_data/good_1.jpg\" alt=\"Alternative text\" /> <img src=\"example_data/good_2.jpg\" alt=\"Alternative text\" /> <img src=\"example_data/good_3.jpg\" alt=\"Alternative text\" /> <img src=\"example_data/good_4.jpg\" alt=\"Alternative text\" /> <img src=\"example_data/good_5.jpg\" alt=\"Alternative text\" /> <img src=\"example_data/bad_1.jpg\" alt=\"Alternative text\" />  <img src=\"example_data/bad_2.jpg\" alt=\"Alternative text\" /> <img src=\"example_data/bad_3.jpg\" alt=\"Alternative text\" /> <img src=\"example_data/bad_4.jpg\" alt=\"Alternative text\" /> <img src=\"example_data/bad_5.jpg\" alt=\"Alternative text\" />"
   ]
  }
 ],
 "metadata": {
  "interpreter": {
   "hash": "916dbcbb3f70747c44a77c7bcd40155683ae19c65e1c03b4aa3499c5328201f1"
  },
  "kernelspec": {
   "display_name": "Python 3 (ipykernel)",
   "language": "python",
   "name": "python3"
  },
  "language_info": {
   "codemirror_mode": {
    "name": "ipython",
    "version": 3
   },
   "file_extension": ".py",
   "mimetype": "text/x-python",
   "name": "python",
   "nbconvert_exporter": "python",
   "pygments_lexer": "ipython3",
   "version": "3.8.10"
  }
 },
 "nbformat": 4,
 "nbformat_minor": 4
}
