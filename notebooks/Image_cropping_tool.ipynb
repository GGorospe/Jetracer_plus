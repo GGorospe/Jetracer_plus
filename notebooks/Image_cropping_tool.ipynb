{
 "cells": [
  {
   "cell_type": "markdown",
   "metadata": {},
   "source": [
    "## Data Cropping/Masking Notebook\n",
    "Author: George Gorospe, george.e.gorospe@gmail.com\n",
    "    \n",
    "About: We'll use this notebook to crop images"
   ]
  },
  {
   "cell_type": "code",
   "execution_count": 2,
   "metadata": {},
   "outputs": [],
   "source": [
    "# IPython Libraries for display and widgets\n",
    "import traitlets\n",
    "import ipywidgets.widgets as widgets\n",
    "from IPython.display import display\n",
    "from jupyter_clickable_image_widget import ClickableImageWidget\n",
    "\n",
    "# We'll use the bgr8_to_jpeg transform to help us in displaying the images\n",
    "from jetcam.utils import bgr8_to_jpeg\n",
    "\n",
    "\n",
    "import ipywidgets.widgets as widgets\n",
    "# Python basic pakcages for image annotation\n",
    "from uuid import uuid1\n",
    "import os\n",
    "import sys\n",
    "import json\n",
    "import glob\n",
    "import datetime\n",
    "import numpy as np\n",
    "import cv2\n",
    "import time\n",
    "import os\n",
    "\n",
    "# Useful Variables \n",
    "index = 0\n",
    "img = ''\n",
    "img_path = ''\n",
    "last_labeled_image_path = ''"
   ]
  },
  {
   "cell_type": "code",
   "execution_count": 3,
   "metadata": {},
   "outputs": [],
   "source": [
    "# Loading data for visualization\n",
    "\n",
    "# ************ Select the Directory with your Dataset ***********\n",
    "DATASET_DIR = \"./datasets/rope_track/H\"\n",
    "\n",
    "\n",
    "# Information about the dataset, number of data points and a listing of the data points.\n",
    "file_number =  len(glob.glob(os.path.join(DATASET_DIR, '*.jpg')))\n",
    "file_list = os.listdir(DATASET_DIR)"
   ]
  },
  {
   "cell_type": "code",
   "execution_count": 4,
   "metadata": {},
   "outputs": [
    {
     "name": "stdout",
     "output_type": "stream",
     "text": [
      "Number of files: 2941\n"
     ]
    }
   ],
   "source": [
    "print(\"Number of files: \" + str(file_number))"
   ]
  },
  {
   "cell_type": "code",
   "execution_count": 5,
   "metadata": {},
   "outputs": [
    {
     "data": {
      "application/vnd.jupyter.widget-view+json": {
       "model_id": "d1a923abdde244fd918d77bec6b7db32",
       "version_major": 2,
       "version_minor": 0
      },
      "text/plain": [
       "Image(value=b'\\xff\\xd8\\xff\\xe0\\x00\\x10JFIF\\x00\\x01\\x01\\x00\\x00\\x01\\x00\\x01\\x00\\x00\\xff\\xdb\\x00C\\x00\\x02\\x01\\x0…"
      ]
     },
     "metadata": {},
     "output_type": "display_data"
    }
   ],
   "source": [
    "# PROTOTYPE\n",
    "img_disp = widgets.Image()\n",
    "\n",
    "img_path = os.path.join(DATASET_DIR,file_list[0])\n",
    "img = cv2.imread(img_path)\n",
    "#img[100:180, 0:224]\n",
    "img[0:100, 0:224] = 0\n",
    "img[180:224, 0:224] = 0\n",
    "img_disp.value = bgr8_to_jpeg(img)\n",
    "\n",
    "display(img_disp)\n"
   ]
  },
  {
   "cell_type": "code",
   "execution_count": 6,
   "metadata": {},
   "outputs": [
    {
     "name": "stdout",
     "output_type": "stream",
     "text": [
      "Created new folder: ./datasets/rope_track/H_CROPPED\n"
     ]
    }
   ],
   "source": [
    "# Creating a new directory for labeled data based on the previous directory\n",
    "# we have this \"try/except\" statement because these next functions can throw an error if the directories exist already\n",
    "try:\n",
    "    CROPPED_DATASET_DIR = DATASET_DIR +'_CROPPED' \n",
    "    os.makedirs(CROPPED_DATASET_DIR)\n",
    "    print('Created new folder: ' + CROPPED_DATASET_DIR)\n",
    "except FileExistsError:\n",
    "    print('Directories not created becasue they already exist')"
   ]
  },
  {
   "cell_type": "code",
   "execution_count": 7,
   "metadata": {},
   "outputs": [],
   "source": [
    "# Save location:\n",
    "SAVE_DIR = CROPPED_DATASET_DIR\n"
   ]
  },
  {
   "cell_type": "code",
   "execution_count": 8,
   "metadata": {},
   "outputs": [],
   "source": [
    "# Looping through file list, cropping, and saving in new location\n",
    "for i in range(file_number):\n",
    "    img_path = os.path.join(DATASET_DIR,file_list[i])\n",
    "    file_type = img_path.split('.')\n",
    "    if file_type[2] == 'jpg':\n",
    "        img = cv2.imread(img_path)\n",
    "        #cropped_image = img[100:180, 0:224]\n",
    "        img[0:100, 0:224] = 0\n",
    "        img[180:224, 0:224] = 0\n",
    "        cv2.imwrite(os.path.join(SAVE_DIR, file_list[i]), img)\n",
    "                \n"
   ]
  },
  {
   "cell_type": "code",
   "execution_count": null,
   "metadata": {},
   "outputs": [],
   "source": []
  }
 ],
 "metadata": {
  "kernelspec": {
   "display_name": "Python 3",
   "language": "python",
   "name": "python3"
  },
  "language_info": {
   "codemirror_mode": {
    "name": "ipython",
    "version": 3
   },
   "file_extension": ".py",
   "mimetype": "text/x-python",
   "name": "python",
   "nbconvert_exporter": "python",
   "pygments_lexer": "ipython3",
   "version": "3.6.9"
  }
 },
 "nbformat": 4,
 "nbformat_minor": 4
}
