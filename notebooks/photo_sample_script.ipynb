{
 "cells": [
  {
   "cell_type": "markdown",
   "id": "cd42d559",
   "metadata": {},
   "source": [
    "## Photo Sample Script"
   ]
  },
  {
   "attachments": {},
   "cell_type": "markdown",
   "id": "c6f6bd1b",
   "metadata": {},
   "source": [
    "TODO: add a description of what this notebook will do."
   ]
  },
  {
   "cell_type": "code",
   "execution_count": 1,
   "id": "05ed0d62",
   "metadata": {},
   "outputs": [],
   "source": [
    "# Camera Sample Script for Jetracer\n",
    "\n",
    "# Importing required libraries\n",
    "import os  \n",
    "from uuid import uuid1    # This library is used to generate unique file names\n",
    "from jetcam.csi_camera import CSICamera\n",
    "from jetcam.utils import bgr8_to_jpeg"
   ]
  },
  {
   "cell_type": "code",
   "execution_count": 2,
   "id": "6162c2ee",
   "metadata": {},
   "outputs": [
    {
     "name": "stdout",
     "output_type": "stream",
     "text": [
      "GST_ARGUS: Creating output stream\n",
      "CONSUMER: Waiting until producer is connected...\n",
      "GST_ARGUS: Available Sensor modes :\n",
      "GST_ARGUS: 3280 x 2464 FR = 21.000000 fps Duration = 47619048 ; Analog Gain range min 1.000000, max 10.625000; Exposure Range min 13000, max 683709000;\n",
      "\n",
      "GST_ARGUS: 3280 x 1848 FR = 28.000001 fps Duration = 35714284 ; Analog Gain range min 1.000000, max 10.625000; Exposure Range min 13000, max 683709000;\n",
      "\n",
      "GST_ARGUS: 1920 x 1080 FR = 29.999999 fps Duration = 33333334 ; Analog Gain range min 1.000000, max 10.625000; Exposure Range min 13000, max 683709000;\n",
      "\n",
      "GST_ARGUS: 1640 x 1232 FR = 29.999999 fps Duration = 33333334 ; Analog Gain range min 1.000000, max 10.625000; Exposure Range min 13000, max 683709000;\n",
      "\n",
      "GST_ARGUS: 1280 x 720 FR = 59.999999 fps Duration = 16666667 ; Analog Gain range min 1.000000, max 10.625000; Exposure Range min 13000, max 683709000;\n",
      "\n",
      "GST_ARGUS: Running with following settings:\n",
      "   Camera index = 0 \n",
      "   Camera mode  = 4 \n",
      "   Output Stream W = 1280 H = 720 \n",
      "   seconds to Run    = 0 \n",
      "   Frame Rate = 59.999999 \n",
      "GST_ARGUS: Setup Complete, Starting captures for 0 seconds\n",
      "GST_ARGUS: Starting repeat capture requests.\n",
      "CONSUMER: Producer has connected; continuing.\n"
     ]
    },
    {
     "name": "stderr",
     "output_type": "stream",
     "text": [
      "[ WARN:0] global /home/ubuntu/build_opencv/opencv/modules/videoio/src/cap_gstreamer.cpp (1100) open OpenCV | GStreamer warning: Cannot query video position: status=0, value=-1, duration=-1\n"
     ]
    }
   ],
   "source": [
    "# Employing Object Oriented Programming (OOP) intantiate the camera object from the CSICamera Library module\n",
    "camera = CSICamera(width=224, height=224)"
   ]
  },
  {
   "cell_type": "code",
   "execution_count": 3,
   "id": "e6b3f846",
   "metadata": {},
   "outputs": [
    {
     "name": "stdout",
     "output_type": "stream",
     "text": [
      "<class 'numpy.ndarray'>\n",
      "New File Created: \n",
      "\n",
      "/home/pathfinder/Dev/Jetracer_plus/notebooks/9ef24b98-85ba-11ee-8784-141333a62981.jpg\n"
     ]
    }
   ],
   "source": [
    "# use the 'running' method of the object to start the camera\n",
    "camera.running = True\n",
    "\n",
    "# Collect an image and modify it so that it may be saved as a .jpg file\n",
    "image = camera.value\n",
    "print(type(image))\n",
    "image = bgr8_to_jpeg(image)\n",
    "\n",
    "\n",
    "# Create a new filename with the coordinates appended, then save the file in the new directory.\n",
    "uuid = '%s' % (uuid1()) #uuid(1) creates a unique string each time it's called\n",
    "directory = os.getcwd();\n",
    "image_path = os.path.join(directory, uuid + '.jpg') # Building the path & filename for the new labeled data point\n",
    "with open(image_path, 'wb') as f:\n",
    "    f.write(image) # camera.value for csi camera, image.value for jetcam\n",
    "\n",
    "print('New File Created: \\n')\n",
    "print(image_path)"
   ]
  },
  {
   "cell_type": "code",
   "execution_count": null,
   "id": "f08569fb",
   "metadata": {},
   "outputs": [],
   "source": []
  }
 ],
 "metadata": {
  "kernelspec": {
   "display_name": "Python 3 (ipykernel)",
   "language": "python",
   "name": "python3"
  },
  "language_info": {
   "codemirror_mode": {
    "name": "ipython",
    "version": 3
   },
   "file_extension": ".py",
   "mimetype": "text/x-python",
   "name": "python",
   "nbconvert_exporter": "python",
   "pygments_lexer": "ipython3",
   "version": "3.8.10"
  }
 },
 "nbformat": 4,
 "nbformat_minor": 5
}
