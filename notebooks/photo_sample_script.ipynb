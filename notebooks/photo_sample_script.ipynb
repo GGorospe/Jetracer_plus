{
 "cells": [
  {
   "cell_type": "markdown",
   "id": "cd42d559",
   "metadata": {},
   "source": [
    "## Photo Sample Script"
   ]
  },
  {
   "cell_type": "code",
   "execution_count": 1,
   "id": "05ed0d62",
   "metadata": {},
   "outputs": [],
   "source": [
    "# Camera Sample Script for Jetracer\n",
    "\n",
    "# Importing required libraries\n",
    "import os  \n",
    "from uuid import uuid1    # This library is used to generate unique file names\n",
    "from jetcam.csi_camera import CSICamera\n",
    "from jetcam.utils import bgr8_to_jpeg"
   ]
  },
  {
   "cell_type": "code",
   "execution_count": 2,
   "id": "6162c2ee",
   "metadata": {},
   "outputs": [],
   "source": [
    "# Employing Object Oriented Programming (OOP) intantiate the camera object from the CSICamera Library module\n",
    "camera = CSICamera(width=224, height=224)"
   ]
  },
  {
   "cell_type": "code",
   "execution_count": 8,
   "id": "e6b3f846",
   "metadata": {},
   "outputs": [
    {
     "name": "stdout",
     "output_type": "stream",
     "text": [
      "<class 'numpy.ndarray'>\n",
      "New File Created: \n",
      "\n",
      "/home/jetson/Documents/Dev/jetracer/notebooks/c9a49d36-994e-11ed-bfa2-e26a35d16341.jpg\n"
     ]
    }
   ],
   "source": [
    "# use the 'running' method of the object to start the camera\n",
    "camera.running = True\n",
    "\n",
    "# Collect an image and modify it so that it may be saved as a .jpg file\n",
    "image = camera.value\n",
    "print(type(image))\n",
    "image = bgr8_to_jpeg(image)\n",
    "\n",
    "\n",
    "# Create a new filename with the coordinates appended, then save the file in the new directory.\n",
    "uuid = '%s' % (uuid1()) #uuid(1) creates a unique string each time it's called\n",
    "directory = os.getcwd();\n",
    "image_path = os.path.join(directory, uuid + '.jpg') # Building the path & filename for the new labeled data point\n",
    "with open(image_path, 'wb') as f:\n",
    "    f.write(image) # camera.value for csi camera, image.value for jetcam\n",
    "\n",
    "print('New File Created: \\n')\n",
    "print(image_path)"
   ]
  },
  {
   "cell_type": "code",
   "execution_count": null,
   "id": "f08569fb",
   "metadata": {},
   "outputs": [],
   "source": []
  }
 ],
 "metadata": {
  "kernelspec": {
   "display_name": "Python 3",
   "language": "python",
   "name": "python3"
  },
  "language_info": {
   "codemirror_mode": {
    "name": "ipython",
    "version": 3
   },
   "file_extension": ".py",
   "mimetype": "text/x-python",
   "name": "python",
   "nbconvert_exporter": "python",
   "pygments_lexer": "ipython3",
   "version": "3.6.9"
  }
 },
 "nbformat": 4,
 "nbformat_minor": 5
}
